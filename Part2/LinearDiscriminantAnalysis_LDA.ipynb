{
 "cells": [
  {
   "cell_type": "markdown",
   "metadata": {},
   "source": [
    "将样例投影到一条直线上，使得同类的样例投影点尽可能小，不同类投影点尽可能远离"
   ]
  },
  {
   "cell_type": "code",
   "execution_count": 1,
   "metadata": {},
   "outputs": [],
   "source": [
    "import os\n",
    "import sys\n",
    "import numpy as np\n",
    "import operator\n",
    "import matplotlib.pyplot as plt\n",
    "\n",
    "%matplotlib inline"
   ]
  },
  {
   "cell_type": "code",
   "execution_count": 3,
   "metadata": {},
   "outputs": [],
   "source": [
    "group1 = np.random.random((8,2))*5+20\n",
    "group2 = np.random.random((8,2))*5+2"
   ]
  },
  {
   "cell_type": "code",
   "execution_count": 4,
   "metadata": {},
   "outputs": [],
   "source": [
    "x1 = group1\n",
    "y1 = np.ones((8,1))\n",
    "x0 = group2\n",
    "y0 = np.zeros((8,1))"
   ]
  },
  {
   "cell_type": "code",
   "execution_count": 6,
   "metadata": {},
   "outputs": [
    {
     "data": {
      "text/plain": [
       "<matplotlib.collections.PathCollection at 0x1b8d56532b0>"
      ]
     },
     "execution_count": 6,
     "metadata": {},
     "output_type": "execute_result"
    },
    {
     "data": {
      "image/png": "[encoded data removed]",
      "text/plain": [
       "<Figure size 432x288 with 1 Axes>"
      ]
     },
     "metadata": {
      "needs_background": "light"
     },
     "output_type": "display_data"
    }
   ],
   "source": [
    "plt.scatter(x1[:,0],x1[:,1],c = 'r')\n",
    "plt.scatter(x0[:,0],x0[:,1],c = 'g')"
   ]
  },
  {
   "cell_type": "code",
   "execution_count": 7,
   "metadata": {},
   "outputs": [],
   "source": [
    "mean1 = np.array([np.mean(x1[:,0]),np.mean(x1[:,1])])\n",
    "mean0 = np.array([np.mean(x0[:,0]),np.mean(x0[:,1])])\n",
    "from numpy import mat\n",
    "m1 = np.shape(x1)[0]\n",
    "sw = np.zeros(shape=(2,2))\n",
    "for i in range(m1):\n",
    "    xsmean = mat(x1[i,:]-mean1)\n",
    "    sw+=xsmean.transpose()*xsmean\n",
    "m0 = np.shape(x0)[0]\n",
    "for i in range(m0):\n",
    "    xsmean = mat(x0[i,:]-mean0)\n",
    "    sw+=xsmean.transpose()*xsmean\n",
    "w = (mean0-mean1)*(mat(sw).I)"
   ]
  },
  {
   "cell_type": "code",
   "execution_count": 9,
   "metadata": {},
   "outputs": [
    {
     "data": {
      "text/plain": [
       "matrix([[-0.70025326, -0.59358341]])"
      ]
     },
     "execution_count": 9,
     "metadata": {},
     "output_type": "execute_result"
    }
   ],
   "source": [
    "w"
   ]
  },
  {
   "cell_type": "code",
   "execution_count": 11,
   "metadata": {},
   "outputs": [
    {
     "data": {
      "text/plain": [
       "[<matplotlib.lines.Line2D at 0x1b8d6ccc0b8>]"
      ]
     },
     "execution_count": 11,
     "metadata": {},
     "output_type": "execute_result"
    },
    {
     "data": {
      "image/png": "[encoded data removed]",
      "text/plain": [
       "<Figure size 432x288 with 1 Axes>"
      ]
     },
     "metadata": {
      "needs_background": "light"
     },
     "output_type": "display_data"
    }
   ],
   "source": [
    "plt.scatter(x1[:,0],x1[:,1],c = 'r')\n",
    "plt.scatter(x0[:,0],x0[:,1],c = 'g')\n",
    "x = np.arange(0,25,0.1)\n",
    "y = np.array((-w[0,0]*x)/w[0,1])\n",
    "plt.plot(x,y)"
   ]
  },
  {
   "cell_type": "code",
   "execution_count": null,
   "metadata": {},
   "outputs": [],
   "source": []
  }
 ],
 "metadata": {
  "kernelspec": {
   "display_name": "Python 3",
   "language": "python",
   "name": "python3"
  },
  "language_info": {
   "codemirror_mode": {
    "name": "ipython",
    "version": 3
   },
   "file_extension": ".py",
   "mimetype": "text/x-python",
   "name": "python",
   "nbconvert_exporter": "python",
   "pygments_lexer": "ipython3",
   "version": "3.7.3"
  }
 },
 "nbformat": 4,
 "nbformat_minor": 2
}
